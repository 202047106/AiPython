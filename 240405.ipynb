{
  "nbformat": 4,
  "nbformat_minor": 0,
  "metadata": {
    "colab": {
      "provenance": [],
      "authorship_tag": "ABX9TyPJpEbh3PvroPHPyXDikfA9",
      "include_colab_link": true
    },
    "kernelspec": {
      "name": "python3",
      "display_name": "Python 3"
    },
    "language_info": {
      "name": "python"
    }
  },
  "cells": [
    {
      "cell_type": "markdown",
      "metadata": {
        "id": "view-in-github",
        "colab_type": "text"
      },
      "source": [
        "<a href=\"https://colab.research.google.com/github/202047106/AiPython/blob/main/240405.ipynb\" target=\"_parent\"><img src=\"https://colab.research.google.com/assets/colab-badge.svg\" alt=\"Open In Colab\"/></a>"
      ]
    },
    {
      "cell_type": "code",
      "execution_count": null,
      "metadata": {
        "colab": {
          "base_uri": "https://localhost:8080/"
        },
        "id": "fGbVveBF4VyG",
        "outputId": "4babb5d7-ca03-466d-9417-1224d50792cb"
      },
      "outputs": [
        {
          "output_type": "stream",
          "name": "stdout",
          "text": [
            "프로그램종료\n"
          ]
        }
      ],
      "source": [
        "a=5\n",
        "if a>5:\n",
        "  print(\"A는 5보다 크다\")\n",
        "print(\"프로그램종료\")"
      ]
    },
    {
      "cell_type": "code",
      "source": [
        "a=10\n",
        "if a>5:\n",
        "  print(\"a는 5보다 크다\")\n",
        "elif a<=5:\n",
        "  print(\"a는 5이하입니다\")"
      ],
      "metadata": {
        "colab": {
          "base_uri": "https://localhost:8080/"
        },
        "id": "5GMWOy9U5JXC",
        "outputId": "e441516c-47bc-4eb5-f7bc-c1a08ea229dc"
      },
      "execution_count": null,
      "outputs": [
        {
          "output_type": "stream",
          "name": "stdout",
          "text": [
            "a는 5보다 크다\n"
          ]
        }
      ]
    },
    {
      "cell_type": "code",
      "source": [
        "a=5\n",
        "if a>5:\n",
        "  print(\"a는 5보다 크다\")\n",
        "elif a<5:\n",
        "  print(\"a는 5이하입니다\")\n",
        "else:\n",
        "  print(\"a는 5입니다\")"
      ],
      "metadata": {
        "colab": {
          "base_uri": "https://localhost:8080/"
        },
        "id": "kSn_BANu7dPZ",
        "outputId": "a6555d61-6593-4798-8b17-6cc16b9bb062"
      },
      "execution_count": null,
      "outputs": [
        {
          "output_type": "stream",
          "name": "stdout",
          "text": [
            "a는 5입니다\n"
          ]
        }
      ]
    },
    {
      "cell_type": "markdown",
      "source": [
        "#a에 할당된 값의 짝수 홀수 여부를 알려주는 프로그램"
      ],
      "metadata": {
        "id": "IL2uNUGv5pAD"
      }
    },
    {
      "cell_type": "code",
      "source": [
        "a=10\n",
        "if a%2==0:\n",
        "  print(\"a는 짝수입니다\")\n",
        "elif a%2!=0:\n",
        "  print(\"a는 홀수입니다\")"
      ],
      "metadata": {
        "colab": {
          "base_uri": "https://localhost:8080/"
        },
        "id": "rdfl-1ci5v4a",
        "outputId": "a01d8478-bf73-46fe-a687-e17590838278"
      },
      "execution_count": null,
      "outputs": [
        {
          "output_type": "stream",
          "name": "stdout",
          "text": [
            "a는 짝수입니다\n"
          ]
        }
      ]
    },
    {
      "cell_type": "code",
      "source": [
        "a=9\n",
        "if a%2==0:\n",
        "  print(\"a는 짝수입니다\")\n",
        "else:\n",
        "  print(\"a는 홀수입니다\")"
      ],
      "metadata": {
        "colab": {
          "base_uri": "https://localhost:8080/"
        },
        "id": "4JWGtCfu6qlj",
        "outputId": "cc9e7c54-09f6-4dbd-bde1-346893eb19ed"
      },
      "execution_count": null,
      "outputs": [
        {
          "output_type": "stream",
          "name": "stdout",
          "text": [
            "a는 홀수입니다\n"
          ]
        }
      ]
    },
    {
      "cell_type": "markdown",
      "source": [
        "중첩조건문"
      ],
      "metadata": {
        "id": "qgmJ03rl9UTJ"
      }
    },
    {
      "cell_type": "code",
      "source": [
        "a=10\n",
        "b=5\n",
        "if a>5:\n",
        "  if b<10:\n",
        "    print(\"a는 5보다 크고 b는 10보다 작다\")"
      ],
      "metadata": {
        "colab": {
          "base_uri": "https://localhost:8080/"
        },
        "id": "YgoNDy8D9GoC",
        "outputId": "9b7d934d-7acf-4f65-e922-6ebfc711f6c8"
      },
      "execution_count": null,
      "outputs": [
        {
          "output_type": "stream",
          "name": "stdout",
          "text": [
            "a는 5보다 크고 b는 10보다 작다\n"
          ]
        }
      ]
    },
    {
      "cell_type": "markdown",
      "source": [
        "----------------------------------------------------------------"
      ],
      "metadata": {
        "id": "stoko1Gn9reY"
      }
    },
    {
      "cell_type": "code",
      "source": [
        "a=10\n",
        "b=5\n",
        "if a>5 and b<10:\n",
        "    print(\"a는 5보다 크고 b는 10보다 작다\")"
      ],
      "metadata": {
        "colab": {
          "base_uri": "https://localhost:8080/"
        },
        "id": "P-bRrb-p9lMR",
        "outputId": "d650d532-5c7b-48c9-8666-245666f94572"
      },
      "execution_count": null,
      "outputs": [
        {
          "output_type": "stream",
          "name": "stdout",
          "text": [
            "a는 5보다 크고 b는 10보다 작다\n"
          ]
        }
      ]
    },
    {
      "cell_type": "markdown",
      "source": [
        "0~100 점수를 입력받아서\n",
        "90점 이상 A\n",
        "80점 이상 B\n",
        "70점 이상 C\n",
        "60점 이상 D\n",
        "그외 F"
      ],
      "metadata": {
        "id": "qMUsCzXw94wR"
      }
    },
    {
      "cell_type": "code",
      "source": [
        "score = int(input(\"당신의 점수는?\"))\n",
        "if score >= 90:\n",
        "   grade = \"A\"\n",
        "elif score >= 80:\n",
        "   grade = \"B\"\n",
        "elif score >= 70:\n",
        "   grade = \"C\"\n",
        "elif score >= 60:\n",
        "   grade = \"D\"\n",
        "else:\n",
        "   grade = \"F\"\n",
        "print(grade)"
      ],
      "metadata": {
        "colab": {
          "base_uri": "https://localhost:8080/"
        },
        "id": "0B2aiAj0-HtX",
        "outputId": "ff32f730-a46e-4c00-cf60-6ac89446f7f7"
      },
      "execution_count": null,
      "outputs": [
        {
          "output_type": "stream",
          "name": "stdout",
          "text": [
            "당신의 점수는?90\n",
            "A\n"
          ]
        }
      ]
    },
    {
      "cell_type": "markdown",
      "source": [
        "반복문"
      ],
      "metadata": {
        "id": "ZmC7GYmsFDGg"
      }
    },
    {
      "cell_type": "code",
      "source": [
        "a=[1,2,3,4,5]\n",
        "for i in a:\n",
        "  print (i, end='') #가로로 표현"
      ],
      "metadata": {
        "colab": {
          "base_uri": "https://localhost:8080/"
        },
        "id": "Wu3VXH7aFCF4",
        "outputId": "1149d4de-2518-40db-a7fb-780e5f525511"
      },
      "execution_count": null,
      "outputs": [
        {
          "output_type": "stream",
          "name": "stdout",
          "text": [
            "12345"
          ]
        }
      ]
    },
    {
      "cell_type": "code",
      "source": [
        "#반복하여 더함\n",
        "a=[1,2,3,4,5]\n",
        "tot=0\n",
        "for i in a:\n",
        "  print (i)\n",
        "  tot+=i\n",
        "print(tot)"
      ],
      "metadata": {
        "colab": {
          "base_uri": "https://localhost:8080/"
        },
        "id": "MJOE4d8TFtpw",
        "outputId": "2a8db0d6-b12d-4840-b8e9-76003e6b7819"
      },
      "execution_count": null,
      "outputs": [
        {
          "output_type": "stream",
          "name": "stdout",
          "text": [
            "1\n",
            "2\n",
            "3\n",
            "4\n",
            "5\n",
            "15\n"
          ]
        }
      ]
    },
    {
      "cell_type": "code",
      "source": [
        "for i in range(1,11):\n",
        "  print (i)"
      ],
      "metadata": {
        "colab": {
          "base_uri": "https://localhost:8080/"
        },
        "id": "eyjaFUiZHHt4",
        "outputId": "a7d88f6d-1cf3-4845-e37d-34ba8eabc86b"
      },
      "execution_count": null,
      "outputs": [
        {
          "output_type": "stream",
          "name": "stdout",
          "text": [
            "1\n",
            "2\n",
            "3\n",
            "4\n",
            "5\n",
            "6\n",
            "7\n",
            "8\n",
            "9\n",
            "10\n"
          ]
        }
      ]
    },
    {
      "cell_type": "code",
      "source": [
        "for i in range(1,100,2):\n",
        "  print (i) #1~100 중에 홀수만"
      ],
      "metadata": {
        "colab": {
          "base_uri": "https://localhost:8080/"
        },
        "id": "caXjbw6oIFlG",
        "outputId": "93bcf07e-f904-4560-e670-be04e72666c8"
      },
      "execution_count": null,
      "outputs": [
        {
          "output_type": "stream",
          "name": "stdout",
          "text": [
            "1\n",
            "3\n",
            "5\n",
            "7\n",
            "9\n",
            "11\n",
            "13\n",
            "15\n",
            "17\n",
            "19\n",
            "21\n",
            "23\n",
            "25\n",
            "27\n",
            "29\n",
            "31\n",
            "33\n",
            "35\n",
            "37\n",
            "39\n",
            "41\n",
            "43\n",
            "45\n",
            "47\n",
            "49\n",
            "51\n",
            "53\n",
            "55\n",
            "57\n",
            "59\n",
            "61\n",
            "63\n",
            "65\n",
            "67\n",
            "69\n",
            "71\n",
            "73\n",
            "75\n",
            "77\n",
            "79\n",
            "81\n",
            "83\n",
            "85\n",
            "87\n",
            "89\n",
            "91\n",
            "93\n",
            "95\n",
            "97\n",
            "99\n"
          ]
        }
      ]
    },
    {
      "cell_type": "code",
      "source": [
        "for i in range(2,101,2):\n",
        "  print (i) #1~100 중에 짝수만"
      ],
      "metadata": {
        "colab": {
          "base_uri": "https://localhost:8080/"
        },
        "id": "ovZQa6yqIdlf",
        "outputId": "aa0756a6-16fd-4214-c880-11abaeaef9ea"
      },
      "execution_count": null,
      "outputs": [
        {
          "output_type": "stream",
          "name": "stdout",
          "text": [
            "2\n",
            "4\n",
            "6\n",
            "8\n",
            "10\n",
            "12\n",
            "14\n",
            "16\n",
            "18\n",
            "20\n",
            "22\n",
            "24\n",
            "26\n",
            "28\n",
            "30\n",
            "32\n",
            "34\n",
            "36\n",
            "38\n",
            "40\n",
            "42\n",
            "44\n",
            "46\n",
            "48\n",
            "50\n",
            "52\n",
            "54\n",
            "56\n",
            "58\n",
            "60\n",
            "62\n",
            "64\n",
            "66\n",
            "68\n",
            "70\n",
            "72\n",
            "74\n",
            "76\n",
            "78\n",
            "80\n",
            "82\n",
            "84\n",
            "86\n",
            "88\n",
            "90\n",
            "92\n",
            "94\n",
            "96\n",
            "98\n",
            "100\n"
          ]
        }
      ]
    },
    {
      "cell_type": "code",
      "source": [
        "for i in range(1,101):\n",
        "  if i%2==0:\n",
        "    continue\n",
        "  print(i) #짝수면 continue에 걸리니 print로 안 내려가고 위로 올라감 -> 짝수는 못찍음"
      ],
      "metadata": {
        "colab": {
          "base_uri": "https://localhost:8080/"
        },
        "id": "CS0sM6FbJYlk",
        "outputId": "b2257cdd-ae2a-4985-d8a0-423f6ee15216"
      },
      "execution_count": null,
      "outputs": [
        {
          "output_type": "stream",
          "name": "stdout",
          "text": [
            "1\n",
            "3\n",
            "5\n",
            "7\n",
            "9\n",
            "11\n",
            "13\n",
            "15\n",
            "17\n",
            "19\n",
            "21\n",
            "23\n",
            "25\n",
            "27\n",
            "29\n",
            "31\n",
            "33\n",
            "35\n",
            "37\n",
            "39\n",
            "41\n",
            "43\n",
            "45\n",
            "47\n",
            "49\n",
            "51\n",
            "53\n",
            "55\n",
            "57\n",
            "59\n",
            "61\n",
            "63\n",
            "65\n",
            "67\n",
            "69\n",
            "71\n",
            "73\n",
            "75\n",
            "77\n",
            "79\n",
            "81\n",
            "83\n",
            "85\n",
            "87\n",
            "89\n",
            "91\n",
            "93\n",
            "95\n",
            "97\n",
            "99\n"
          ]
        }
      ]
    },
    {
      "cell_type": "code",
      "source": [
        "for i in range (5):\n",
        "  if i%2==1:\n",
        "    break\n",
        "  print(i) #홀수가 나왔을 때 break가 걸려서 0만 찍고 끝남"
      ],
      "metadata": {
        "colab": {
          "base_uri": "https://localhost:8080/"
        },
        "id": "iRcayqVVKPL4",
        "outputId": "4ed1cf7c-bbba-4a6b-80dc-35d9d38089a2"
      },
      "execution_count": null,
      "outputs": [
        {
          "output_type": "stream",
          "name": "stdout",
          "text": [
            "0\n"
          ]
        }
      ]
    },
    {
      "cell_type": "code",
      "source": [
        "짝수합=0\n",
        "홀수합=0\n",
        "for i in range(1,11):\n",
        "  if i%2==1:\n",
        "    홀수합+=i\n",
        "  else:\n",
        "   짝수합+=i\n",
        "print(짝수합)\n",
        "print(홀수합)"
      ],
      "metadata": {
        "colab": {
          "base_uri": "https://localhost:8080/"
        },
        "id": "iz7N9XdYKvIu",
        "outputId": "a6b2ce87-a06d-404d-dc4d-13155997168a"
      },
      "execution_count": null,
      "outputs": [
        {
          "output_type": "stream",
          "name": "stdout",
          "text": [
            "30\n",
            "25\n"
          ]
        }
      ]
    },
    {
      "cell_type": "markdown",
      "source": [
        "n을 입력 받아서 1부터 n까지 합을 구함"
      ],
      "metadata": {
        "id": "Fz5XuQrYPGgf"
      }
    },
    {
      "cell_type": "code",
      "source": [
        "n = int(input())\n",
        "n의합=0\n",
        "for i in range (1,n+1):\n",
        " n의합+=i\n",
        "print(n의합)"
      ],
      "metadata": {
        "colab": {
          "base_uri": "https://localhost:8080/"
        },
        "id": "7yfzSqhvNwUz",
        "outputId": "6d8618cb-744e-4921-d368-cd8e974cb8c7"
      },
      "execution_count": null,
      "outputs": [
        {
          "output_type": "stream",
          "name": "stdout",
          "text": [
            "10\n",
            "55\n"
          ]
        }
      ]
    }
  ]
}