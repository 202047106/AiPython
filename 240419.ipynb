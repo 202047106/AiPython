{
  "nbformat": 4,
  "nbformat_minor": 0,
  "metadata": {
    "colab": {
      "provenance": [],
      "authorship_tag": "ABX9TyP9ZcOH6mXSGhHJbZj1LgTC",
      "include_colab_link": true
    },
    "kernelspec": {
      "name": "python3",
      "display_name": "Python 3"
    },
    "language_info": {
      "name": "python"
    }
  },
  "cells": [
    {
      "cell_type": "markdown",
      "metadata": {
        "id": "view-in-github",
        "colab_type": "text"
      },
      "source": [
        "<a href=\"https://colab.research.google.com/github/202047106/AiPython/blob/main/240419.ipynb\" target=\"_parent\"><img src=\"https://colab.research.google.com/assets/colab-badge.svg\" alt=\"Open In Colab\"/></a>"
      ]
    },
    {
      "cell_type": "code",
      "execution_count": null,
      "metadata": {
        "colab": {
          "base_uri": "https://localhost:8080/"
        },
        "id": "h3uimOm98rjn",
        "outputId": "50e69962-e85a-44fb-a489-836b235cd880"
      },
      "outputs": [
        {
          "output_type": "stream",
          "name": "stdout",
          "text": [
            "학생의 점수를 입력하세요:90\n",
            "학생의 점수를 입력하세요:70\n",
            "학생의 점수를 입력하세요:60\n",
            "학생의 점수를 입력하세요:q\n",
            "입력 데이터 출력 :  [90, 70, 60] 220 3 73.33333333333333\n"
          ]
        }
      ],
      "source": [
        "scores=[]\n",
        "while True:\n",
        "  score=input(\"학생의 점수를 입력하세요:\")\n",
        "  if score.isdigit(): #참이면숫자\n",
        "   scores.append(int(score))\n",
        "  else:\n",
        "   break\n",
        "print(\"입력 데이터 출력 : \",scores, sum(scores), len(scores), sum(scores)/len(scores))"
      ]
    },
    {
      "cell_type": "code",
      "source": [
        "txt = \"apple#banana#cherry#orange\"\n",
        "x = txt.split(\"#\")\n",
        "print(x)\n",
        "\n",
        "a = {\"Python\", \"Java\", \"Ruby\"}\n",
        "x = \"->\".join(a)\n",
        "print(x)"
      ],
      "metadata": {
        "id": "l6bEmFUIIIgR"
      },
      "execution_count": null,
      "outputs": []
    },
    {
      "cell_type": "code",
      "source": [
        "def myFunc(x):\n",
        " if x < 18:\n",
        "  return False\n",
        " else:\n",
        "  return True\n",
        "\n",
        "ages = [5, 12, 17, 18, 24, 32]\n",
        "new=list(filter(lambda age: age >= 18, ages))\n",
        "print(new)"
      ],
      "metadata": {
        "colab": {
          "base_uri": "https://localhost:8080/"
        },
        "id": "NOWslAKdJGaw",
        "outputId": "5cf4dc34-4940-4c3a-f0b5-12a8562598bf"
      },
      "execution_count": null,
      "outputs": [
        {
          "output_type": "stream",
          "name": "stdout",
          "text": [
            "[0, 4, 16, 36, 64]\n"
          ]
        }
      ]
    },
    {
      "cell_type": "code",
      "source": [
        "citys = [\"Seoul\", \"New York\", \"London\", \"Shanghai\", \"Paris\", \"Tokyo\"]\n",
        "new_list = [ city for city in citys if city.startswith('S')]\n",
        "print(new_list)"
      ],
      "metadata": {
        "colab": {
          "base_uri": "https://localhost:8080/"
        },
        "id": "LAkDz0WtL7ga",
        "outputId": "562ed924-ad6d-48b9-bafb-42a64819af4a"
      },
      "execution_count": null,
      "outputs": [
        {
          "output_type": "stream",
          "name": "stdout",
          "text": [
            "['Seoul', 'Shanghai']\n"
          ]
        }
      ]
    },
    {
      "cell_type": "code",
      "source": [
        "nums = [1, 2, 3, 4, 5, 6, 7, 8, 9, 10]\n",
        "odd_nums = list(filter(lambda x: x % 2 == 0, nums))\n",
        "print(odd_nums)"
      ],
      "metadata": {
        "colab": {
          "base_uri": "https://localhost:8080/"
        },
        "id": "Wz_J_JI_PMDJ",
        "outputId": "928c43ec-31dc-4e67-86d7-2eff78aea4d5"
      },
      "execution_count": null,
      "outputs": [
        {
          "output_type": "stream",
          "name": "stdout",
          "text": [
            "[2, 4, 6, 8, 10]\n"
          ]
        }
      ]
    },
    {
      "cell_type": "code",
      "source": [
        "langs = [\"Python\", \"Java\", \"JavaScript\"]\n",
        "newlst=[(idx, lang) for idx, lang in enumerate(langs)]\n",
        "print(newlst)"
      ],
      "metadata": {
        "colab": {
          "base_uri": "https://localhost:8080/"
        },
        "id": "Fyy0eJ-SRJNo",
        "outputId": "0382be6b-875c-456a-fdc8-619b499cf1cc"
      },
      "execution_count": null,
      "outputs": [
        {
          "output_type": "stream",
          "name": "stdout",
          "text": [
            "[(0, 'Python'), (1, 'Java'), (2, 'JavaScript')]\n"
          ]
        }
      ]
    },
    {
      "cell_type": "code",
      "source": [
        "langs = [\"Python\", \"Java\", \"JavaScript\"]\n",
        "newlst=[(idx, lang) for idx, lang in enumerate(langs, start = 1)]\n",
        "print(newlst)"
      ],
      "metadata": {
        "colab": {
          "base_uri": "https://localhost:8080/"
        },
        "id": "08pvO9HMR3Cq",
        "outputId": "67cc6a87-8c4a-4a35-b312-e7d670293a0c"
      },
      "execution_count": null,
      "outputs": [
        {
          "output_type": "stream",
          "name": "stdout",
          "text": [
            "[(1, 'Python'), (2, 'Java'), (3, 'JavaScript')]\n"
          ]
        }
      ]
    },
    {
      "cell_type": "code",
      "source": [
        "def convert_to_grade(score):\n",
        " if score >= 90:\n",
        "  return 'A'\n",
        " elif score >= 80:\n",
        "  return 'B'\n",
        " elif score >= 70:\n",
        "  return 'C'\n",
        " elif score >= 60:\n",
        "  return 'D'\n",
        " else:\n",
        "  return 'F'\n",
        "\n",
        "scores = [88, 92, 78, 60, 75, 95]\n",
        "grade = list(map(convert_to_grade, scores))\n",
        "print(grade)"
      ],
      "metadata": {
        "colab": {
          "base_uri": "https://localhost:8080/"
        },
        "id": "kv9aeKagUQsZ",
        "outputId": "c0b8456d-362f-40f5-8189-ca15a04b6f20"
      },
      "execution_count": null,
      "outputs": [
        {
          "output_type": "stream",
          "name": "stdout",
          "text": [
            "['B', 'A', 'C', 'D', 'C', 'A']\n"
          ]
        }
      ]
    },
    {
      "cell_type": "code",
      "source": [
        "def myFunc(x):\n",
        " if x < 18:\n",
        "  return False\n",
        " else:\n",
        "  return True\n",
        "\n",
        "ages = [5, 12, 17, 18, 24, 32]\n",
        "new=list(filter(lambda age: age >= 18, ages))\n",
        "print(new)"
      ],
      "metadata": {
        "colab": {
          "base_uri": "https://localhost:8080/"
        },
        "id": "3eUdVb88VyYB",
        "outputId": "c3570610-91ff-4502-dee7-c24fbfe09c45"
      },
      "execution_count": null,
      "outputs": [
        {
          "output_type": "stream",
          "name": "stdout",
          "text": [
            "[18, 24, 32]\n"
          ]
        }
      ]
    }
  ]
}