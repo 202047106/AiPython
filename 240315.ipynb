{
  "nbformat": 4,
  "nbformat_minor": 0,
  "metadata": {
    "colab": {
      "provenance": []
    },
    "kernelspec": {
      "name": "python3",
      "display_name": "Python 3"
    },
    "language_info": {
      "name": "python"
    }
  },
  "cells": [
    {
      "cell_type": "markdown",
      "source": [
        "두 수를 입력받아서 합을 출력하는 프로그램"
      ],
      "metadata": {
        "id": "gLzF4zz7_69R"
      }
    },
    {
      "cell_type": "code",
      "execution_count": 1,
      "metadata": {
        "colab": {
          "base_uri": "https://localhost:8080/"
        },
        "id": "Cas3Nozw-Hot",
        "outputId": "b6396d44-01c2-4958-ab87-459d19b14a08"
      },
      "outputs": [
        {
          "output_type": "stream",
          "name": "stdout",
          "text": [
            "두 정수를 입력하세요: 1 2\n",
            "두 정수의 합은: 3\n"
          ]
        }
      ],
      "source": [
        "A, B = map(int, input(\"두 정수를 입력하세요: \").split())\n",
        "result = A + B\n",
        "print(\"두 정수의 합은:\", result)"
      ]
    },
    {
      "cell_type": "code",
      "source": [
        "print(\"Hello Python\")"
      ],
      "metadata": {
        "colab": {
          "base_uri": "https://localhost:8080/"
        },
        "id": "UwDSy6iS_fph",
        "outputId": "08519da6-7560-4457-821c-a772b9526b7b"
      },
      "execution_count": 2,
      "outputs": [
        {
          "output_type": "stream",
          "name": "stdout",
          "text": [
            "Hello Python\n"
          ]
        }
      ]
    },
    {
      "cell_type": "code",
      "source": [],
      "metadata": {
        "id": "HQdP55UM_qOw"
      },
      "execution_count": null,
      "outputs": []
    }
  ]
}